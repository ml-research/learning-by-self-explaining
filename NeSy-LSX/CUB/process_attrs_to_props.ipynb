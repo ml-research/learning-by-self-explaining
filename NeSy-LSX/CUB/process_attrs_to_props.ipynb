{
 "cells": [
  {
   "cell_type": "code",
   "execution_count": 1,
   "metadata": {},
   "outputs": [],
   "source": [
    "import numpy as np"
   ]
  },
  {
   "cell_type": "code",
   "execution_count": 13,
   "metadata": {
    "pycharm": {
     "name": "#%%\n"
    }
   },
   "outputs": [],
   "source": [
    "attrs_txt_pth = '/pathto/CUB_200_2011/attributes/attributes.txt'\n",
    "\n",
    "with open(attrs_txt_pth) as f:\n",
    "    lines = f.readlines()"
   ]
  },
  {
   "cell_type": "code",
   "execution_count": 14,
   "metadata": {
    "pycharm": {
     "name": "#%%\n"
    }
   },
   "outputs": [],
   "source": [
    "processed_data = []\n",
    "for line in lines:\n",
    "    tmp = line.split(' ')[-1].split('\\n')[0].split('::')\n",
    "    attr_cat = tmp[0].replace('_', '')\n",
    "    attr = tmp[1].split('_(')[0]\n",
    "    attr = attr.replace('-', '')\n",
    "    processed_data.append([attr_cat, attr])\n",
    "\n",
    "processed_data = np.array(processed_data)"
   ]
  },
  {
   "cell_type": "code",
   "execution_count": 15,
   "metadata": {
    "pycharm": {
     "name": "#%%\n"
    }
   },
   "outputs": [],
   "source": [
    "cats = np.unique(processed_data[:, 0])\n",
    "attrs_dict = {}\n",
    "for cat in cats:\n",
    "    attrs_dict[cat] = []\n",
    "    for i in range(len(processed_data)):\n",
    "        if cat in processed_data[i, 0]:\n",
    "            attrs_dict[cat].append(processed_data[i, 1])"
   ]
  },
  {
   "cell_type": "code",
   "execution_count": 16,
   "metadata": {
    "pycharm": {
     "name": "#%%\n"
    }
   },
   "outputs": [],
   "source": [
    "# print strings for consts.txt\n",
    "for key in attrs_dict.keys():\n",
    "    print_str = f\"{key}:\"\n",
    "    for elem in attrs_dict[key]:\n",
    "        print_str += elem + ','\n",
    "    print_str = print_str[:-1]\n",
    "    # print_str += '\\n'\n",
    "    print(print_str)"
   ]
  },
  {
   "cell_type": "code",
   "execution_count": 17,
   "metadata": {
    "pycharm": {
     "name": "#%%\n"
    }
   },
   "outputs": [],
   "source": [
    "# print strings for neural_preds.txt\n",
    "for key in attrs_dict.keys():\n",
    "    print_str = f\"{key}:2:object:{key}\"\n",
    "    print(print_str)\n"
   ]
  },
  {
   "cell_type": "code",
   "execution_count": 18,
   "metadata": {},
   "outputs": [],
   "source": [
    "attrs_dict"
   ]
  },
  {
   "cell_type": "code",
   "execution_count": 34,
   "metadata": {
    "pycharm": {
     "name": "#%%\n"
    }
   },
   "outputs": [
    {
     "name": "stdout",
     "output_type": "stream",
     "text": [
      "cub0:1:image\n",
      "cub1:1:image\n",
      "cub2:1:image\n",
      "cub3:1:image\n",
      "cub4:1:image\n",
      "cub5:1:image\n",
      "cub6:1:image\n",
      "cub7:1:image\n",
      "cub8:1:image\n",
      "cub9:1:image\n",
      "cub10:1:image\n",
      "cub11:1:image\n",
      "cub12:1:image\n",
      "cub13:1:image\n",
      "cub14:1:image\n",
      "cub15:1:image\n",
      "cub16:1:image\n",
      "cub17:1:image\n",
      "cub18:1:image\n",
      "cub19:1:image\n",
      "cub20:1:image\n",
      "cub21:1:image\n",
      "cub22:1:image\n",
      "cub23:1:image\n",
      "cub24:1:image\n",
      "cub25:1:image\n",
      "cub26:1:image\n",
      "cub27:1:image\n",
      "cub28:1:image\n",
      "cub29:1:image\n",
      "cub30:1:image\n",
      "cub31:1:image\n",
      "cub32:1:image\n",
      "cub33:1:image\n",
      "cub34:1:image\n",
      "cub35:1:image\n",
      "cub36:1:image\n",
      "cub37:1:image\n",
      "cub38:1:image\n",
      "cub39:1:image\n",
      "cub40:1:image\n",
      "cub41:1:image\n",
      "cub42:1:image\n",
      "cub43:1:image\n",
      "cub44:1:image\n",
      "cub45:1:image\n",
      "cub46:1:image\n",
      "cub47:1:image\n",
      "cub48:1:image\n",
      "cub49:1:image\n",
      "cub50:1:image\n",
      "cub51:1:image\n",
      "cub52:1:image\n",
      "cub53:1:image\n",
      "cub54:1:image\n",
      "cub55:1:image\n",
      "cub56:1:image\n",
      "cub57:1:image\n",
      "cub58:1:image\n",
      "cub59:1:image\n",
      "cub60:1:image\n",
      "cub61:1:image\n",
      "cub62:1:image\n",
      "cub63:1:image\n",
      "cub64:1:image\n",
      "cub65:1:image\n",
      "cub66:1:image\n",
      "cub67:1:image\n",
      "cub68:1:image\n",
      "cub69:1:image\n",
      "cub70:1:image\n",
      "cub71:1:image\n",
      "cub72:1:image\n",
      "cub73:1:image\n",
      "cub74:1:image\n",
      "cub75:1:image\n",
      "cub76:1:image\n",
      "cub77:1:image\n",
      "cub78:1:image\n",
      "cub79:1:image\n",
      "cub80:1:image\n",
      "cub81:1:image\n",
      "cub82:1:image\n",
      "cub83:1:image\n",
      "cub84:1:image\n",
      "cub85:1:image\n",
      "cub86:1:image\n",
      "cub87:1:image\n",
      "cub88:1:image\n",
      "cub89:1:image\n",
      "cub90:1:image\n",
      "cub91:1:image\n",
      "cub92:1:image\n",
      "cub93:1:image\n",
      "cub94:1:image\n",
      "cub95:1:image\n",
      "cub96:1:image\n",
      "cub97:1:image\n",
      "cub98:1:image\n",
      "cub99:1:image\n",
      "cub100:1:image\n",
      "cub101:1:image\n",
      "cub102:1:image\n",
      "cub103:1:image\n",
      "cub104:1:image\n",
      "cub105:1:image\n",
      "cub106:1:image\n",
      "cub107:1:image\n",
      "cub108:1:image\n",
      "cub109:1:image\n",
      "cub110:1:image\n",
      "cub111:1:image\n",
      "cub112:1:image\n",
      "cub113:1:image\n",
      "cub114:1:image\n",
      "cub115:1:image\n",
      "cub116:1:image\n",
      "cub117:1:image\n",
      "cub118:1:image\n",
      "cub119:1:image\n",
      "cub120:1:image\n",
      "cub121:1:image\n",
      "cub122:1:image\n",
      "cub123:1:image\n",
      "cub124:1:image\n",
      "cub125:1:image\n",
      "cub126:1:image\n",
      "cub127:1:image\n",
      "cub128:1:image\n",
      "cub129:1:image\n",
      "cub130:1:image\n",
      "cub131:1:image\n",
      "cub132:1:image\n",
      "cub133:1:image\n",
      "cub134:1:image\n",
      "cub135:1:image\n",
      "cub136:1:image\n",
      "cub137:1:image\n",
      "cub138:1:image\n",
      "cub139:1:image\n",
      "cub140:1:image\n",
      "cub141:1:image\n",
      "cub142:1:image\n",
      "cub143:1:image\n",
      "cub144:1:image\n",
      "cub145:1:image\n",
      "cub146:1:image\n",
      "cub147:1:image\n",
      "cub148:1:image\n",
      "cub149:1:image\n",
      "cub150:1:image\n",
      "cub151:1:image\n",
      "cub152:1:image\n",
      "cub153:1:image\n",
      "cub154:1:image\n",
      "cub155:1:image\n",
      "cub156:1:image\n",
      "cub157:1:image\n",
      "cub158:1:image\n",
      "cub159:1:image\n",
      "cub160:1:image\n",
      "cub161:1:image\n",
      "cub162:1:image\n",
      "cub163:1:image\n",
      "cub164:1:image\n",
      "cub165:1:image\n",
      "cub166:1:image\n",
      "cub167:1:image\n",
      "cub168:1:image\n",
      "cub169:1:image\n",
      "cub170:1:image\n",
      "cub171:1:image\n",
      "cub172:1:image\n",
      "cub173:1:image\n",
      "cub174:1:image\n",
      "cub175:1:image\n",
      "cub176:1:image\n",
      "cub177:1:image\n",
      "cub178:1:image\n",
      "cub179:1:image\n",
      "cub180:1:image\n",
      "cub181:1:image\n",
      "cub182:1:image\n",
      "cub183:1:image\n",
      "cub184:1:image\n",
      "cub185:1:image\n",
      "cub186:1:image\n",
      "cub187:1:image\n",
      "cub188:1:image\n",
      "cub189:1:image\n",
      "cub190:1:image\n",
      "cub191:1:image\n",
      "cub192:1:image\n",
      "cub193:1:image\n",
      "cub194:1:image\n",
      "cub195:1:image\n",
      "cub196:1:image\n",
      "cub197:1:image\n",
      "cub198:1:image\n",
      "cub199:1:image\n"
     ]
    }
   ],
   "source": [
    "class_names_pth = '/pathto/CUB_200_2011/classes.txt'\n",
    "\n",
    "with open(class_names_pth) as f:\n",
    "    lines = f.readlines()\n",
    "\n",
    "class_names = []\n",
    "for line in lines:\n",
    "    class_names.append(line.split('.')[-1])\n",
    "\n",
    "for i in range(len(class_names)):\n",
    "    print_str = f\"cub{i}:1:image\"\n",
    "    print(print_str)"
   ]
  },
  {
   "cell_type": "code",
   "execution_count": null,
   "metadata": {
    "pycharm": {
     "name": "#%%\n"
    }
   },
   "outputs": [],
   "source": []
  }
 ],
 "metadata": {
  "kernelspec": {
   "display_name": "Python 3 (ipykernel)",
   "language": "python",
   "name": "python3"
  },
  "language_info": {
   "codemirror_mode": {
    "name": "ipython",
    "version": 3
   },
   "file_extension": ".py",
   "mimetype": "text/x-python",
   "name": "python",
   "nbconvert_exporter": "python",
   "pygments_lexer": "ipython3",
   "version": "3.9.16"
  }
 },
 "nbformat": 4,
 "nbformat_minor": 1
}