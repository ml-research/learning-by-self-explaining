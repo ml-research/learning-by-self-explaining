{
 "cells": [
  {
   "cell_type": "code",
   "execution_count": 1,
   "metadata": {},
   "outputs": [],
   "source": [
    "import numpy as np"
   ]
  },
  {
   "cell_type": "markdown",
   "metadata": {},
   "source": [
    "## This is for creating the initial Prop list etc. that are now stored in CUB/dataset.py"
   ]
  },
  {
   "cell_type": "code",
   "execution_count": 2,
   "metadata": {
    "pycharm": {
     "name": "#%%\n"
    }
   },
   "outputs": [],
   "source": [
    "fp = '/pathto/CUB_200_2011/attributes/attributes.txt'\n",
    "\n",
    "with open(fp) as f:\n",
    "    lines = f.readlines()\n"
   ]
  },
  {
   "cell_type": "code",
   "execution_count": 3,
   "metadata": {
    "pycharm": {
     "name": "#%%\n"
    }
   },
   "outputs": [],
   "source": [
    "cats_all = []\n",
    "attrs_all = []\n",
    "for line in lines:\n",
    "    # line = lines[0]\n",
    "    tmp = line.split(' ')[-1].split('\\n')[0].split('::')\n",
    "    cat_str = tmp[0].replace('_', '')\n",
    "    attr_str = tmp[1].replace('_', '').replace('(', '').replace(')', '').replace('-','')\n",
    "\n",
    "    cats_all.append(cat_str)\n",
    "    attrs_all.append(attr_str)"
   ]
  },
  {
   "cell_type": "code",
   "execution_count": 4,
   "metadata": {
    "pycharm": {
     "name": "#%%\n"
    }
   },
   "outputs": [],
   "source": [
    "# cats_unique = list(set(cats_all))\n",
    "\n",
    "cats_unique = []\n",
    "for cat in cats_all:\n",
    "    if cat not in cats_unique:\n",
    "        cats_unique.append(cat)\n",
    "    else:\n",
    "        pass\n",
    "\n",
    "attrs_as_lists = []\n",
    "len_attrs_as_lists = []\n",
    "for cat_str in cats_unique:\n",
    "    indices = [i for i, s in enumerate(cats_all) if cat_str in s]\n",
    "    attr_strs = [attrs_all[i] for i in indices]\n",
    "    attrs_as_lists.append(attr_strs)\n",
    "    len_attrs_as_lists.append(len(attr_strs))"
   ]
  },
  {
   "cell_type": "code",
   "execution_count": 5,
   "metadata": {
    "pycharm": {
     "name": "#%%\n"
    }
   },
   "outputs": [
    {
     "data": {
      "text/plain": [
       "312"
      ]
     },
     "execution_count": 5,
     "metadata": {},
     "output_type": "execute_result"
    }
   ],
   "source": [
    "np.sum(len_attrs_as_lists)\n"
   ]
  },
  {
   "cell_type": "code",
   "execution_count": 7,
   "metadata": {
    "pycharm": {
     "name": "#%%\n"
    }
   },
   "outputs": [
    {
     "name": "stdout",
     "output_type": "stream",
     "text": [
      "['hasbillshape', 'haswingcolor', 'hasupperpartscolor', 'hasunderpartscolor', 'hasbreastpattern', 'hasbackcolor', 'hastailshape', 'hasuppertailcolor', 'hasheadpattern', 'hasbreastcolor', 'hasthroatcolor', 'haseyecolor', 'hasbilllength', 'hasforeheadcolor', 'hasundertailcolor', 'hasnapecolor', 'hasbellycolor', 'haswingshape', 'hassize', 'hasshape', 'hasbackpattern', 'hastailpattern', 'hasbellypattern', 'hasprimarycolor', 'haslegcolor', 'hasbillcolor', 'hascrowncolor', 'haswingpattern']\n"
     ]
    }
   ],
   "source": [
    "print(cats_unique)\n"
   ]
  },
  {
   "cell_type": "code",
   "execution_count": 8,
   "metadata": {
    "pycharm": {
     "name": "#%%\n"
    }
   },
   "outputs": [
    {
     "name": "stdout",
     "output_type": "stream",
     "text": [
      "[['curvedupordown', 'dagger', 'hooked', 'needle', 'hookedseabird', 'spatulate', 'allpurpose', 'cone', 'specialized'], ['blue', 'brown', 'iridescent', 'purple', 'rufous', 'grey', 'yellow', 'olive', 'green', 'pink', 'orange', 'black', 'white', 'red', 'buff'], ['blue', 'brown', 'iridescent', 'purple', 'rufous', 'grey', 'yellow', 'olive', 'green', 'pink', 'orange', 'black', 'white', 'red', 'buff'], ['blue', 'brown', 'iridescent', 'purple', 'rufous', 'grey', 'yellow', 'olive', 'green', 'pink', 'orange', 'black', 'white', 'red', 'buff'], ['solid', 'spotted', 'striped', 'multicolored'], ['blue', 'brown', 'iridescent', 'purple', 'rufous', 'grey', 'yellow', 'olive', 'green', 'pink', 'orange', 'black', 'white', 'red', 'buff'], ['forkedtail', 'roundedtail', 'notchedtail', 'fanshapedtail', 'pointedtail', 'squaredtail'], ['blue', 'brown', 'iridescent', 'purple', 'rufous', 'grey', 'yellow', 'olive', 'green', 'pink', 'orange', 'black', 'white', 'red', 'buff'], ['spotted', 'malar', 'crested', 'masked', 'uniquepattern', 'eyebrow', 'eyering', 'plain', 'eyeline', 'striped', 'capped'], ['blue', 'brown', 'iridescent', 'purple', 'rufous', 'grey', 'yellow', 'olive', 'green', 'pink', 'orange', 'black', 'white', 'red', 'buff'], ['blue', 'brown', 'iridescent', 'purple', 'rufous', 'grey', 'yellow', 'olive', 'green', 'pink', 'orange', 'black', 'white', 'red', 'buff'], ['blue', 'brown', 'purple', 'rufous', 'grey', 'yellow', 'olive', 'green', 'pink', 'orange', 'black', 'white', 'red', 'buff'], ['aboutthesameashead', 'longerthanhead', 'shorterthanhead'], ['blue', 'brown', 'iridescent', 'purple', 'rufous', 'grey', 'yellow', 'olive', 'green', 'pink', 'orange', 'black', 'white', 'red', 'buff'], ['blue', 'brown', 'iridescent', 'purple', 'rufous', 'grey', 'yellow', 'olive', 'green', 'pink', 'orange', 'black', 'white', 'red', 'buff'], ['blue', 'brown', 'iridescent', 'purple', 'rufous', 'grey', 'yellow', 'olive', 'green', 'pink', 'orange', 'black', 'white', 'red', 'buff'], ['blue', 'brown', 'iridescent', 'purple', 'rufous', 'grey', 'yellow', 'olive', 'green', 'pink', 'orange', 'black', 'white', 'red', 'buff'], ['roundedwings', 'pointedwings', 'broadwings', 'taperedwings', 'longwings'], ['large1632in', 'small59in', 'verylarge3272in', 'medium916in', 'verysmall35in'], ['uprightperchingwaterlike', 'chickenlikemarsh', 'longleggedlike', 'ducklike', 'owllike', 'gulllike', 'hummingbirdlike', 'pigeonlike', 'treeclinginglike', 'hawklike', 'sandpiperlike', 'uplandgroundlike', 'swallowlike', 'perchinglike'], ['solid', 'spotted', 'striped', 'multicolored'], ['solid', 'spotted', 'striped', 'multicolored'], ['solid', 'spotted', 'striped', 'multicolored'], ['blue', 'brown', 'iridescent', 'purple', 'rufous', 'grey', 'yellow', 'olive', 'green', 'pink', 'orange', 'black', 'white', 'red', 'buff'], ['blue', 'brown', 'iridescent', 'purple', 'rufous', 'grey', 'yellow', 'olive', 'green', 'pink', 'orange', 'black', 'white', 'red', 'buff'], ['blue', 'brown', 'iridescent', 'purple', 'rufous', 'grey', 'yellow', 'olive', 'green', 'pink', 'orange', 'black', 'white', 'red', 'buff'], ['blue', 'brown', 'iridescent', 'purple', 'rufous', 'grey', 'yellow', 'olive', 'green', 'pink', 'orange', 'black', 'white', 'red', 'buff'], ['solid', 'spotted', 'striped', 'multicolored']]\n"
     ]
    }
   ],
   "source": [
    "print(attrs_as_lists)"
   ]
  },
  {
   "cell_type": "markdown",
   "metadata": {},
   "source": [
    "## This is for creating the category_attributes_dict for NSFR"
   ]
  },
  {
   "cell_type": "code",
   "execution_count": 2,
   "metadata": {
    "pycharm": {
     "name": "#%%\n"
    }
   },
   "outputs": [],
   "source": [
    "from CUB.dataset import PROP_STR_GROUPED, CATEGORY_STR, PROP_STR_GROUPED_FLAT, CATEGORY_IDS, PROP_STR_BY_ID, CATEGORY_PROP_ATTRID_DICT\n",
    "# PROP_STR_GROUPED = [['curvedupordown', 'dagger', 'hooked', 'needle', 'hookedseabird', 'spatulate', 'allpurpose', 'cone', 'specialized'], ['blue', 'brown', 'iridescent', 'purple', 'rufous', 'grey', 'yellow', 'olive', 'green', 'pink', 'orange', 'black', 'white', 'red', 'buff'], ['blue', 'brown', 'iridescent', 'purple', 'rufous', 'grey', 'yellow', 'olive', 'green', 'pink', 'orange', 'black', 'white', 'red', 'buff'], ['blue', 'brown', 'iridescent', 'purple', 'rufous', 'grey', 'yellow', 'olive', 'green', 'pink', 'orange', 'black', 'white', 'red', 'buff'], ['solid', 'spotted', 'striped', 'multicolored'], ['blue', 'brown', 'iridescent', 'purple', 'rufous', 'grey', 'yellow', 'olive', 'green', 'pink', 'orange', 'black', 'white', 'red', 'buff'], ['forkedtail', 'roundedtail', 'notchedtail', 'fanshapedtail', 'pointedtail', 'squaredtail'], ['blue', 'brown', 'iridescent', 'purple', 'rufous', 'grey', 'yellow', 'olive', 'green', 'pink', 'orange', 'black', 'white', 'red', 'buff'], ['spotted', 'malar', 'crested', 'masked', 'uniquepattern', 'eyebrow', 'eyering', 'plain', 'eyeline', 'striped', 'capped'], ['blue', 'brown', 'iridescent', 'purple', 'rufous', 'grey', 'yellow', 'olive', 'green', 'pink', 'orange', 'black', 'white', 'red', 'buff'], ['blue', 'brown', 'iridescent', 'purple', 'rufous', 'grey', 'yellow', 'olive', 'green', 'pink', 'orange', 'black', 'white', 'red', 'buff'], ['blue', 'brown', 'purple', 'rufous', 'grey', 'yellow', 'olive', 'green', 'pink', 'orange', 'black', 'white', 'red', 'buff'], ['aboutthesameashead', 'longerthanhead', 'shorterthanhead'], ['blue', 'brown', 'iridescent', 'purple', 'rufous', 'grey', 'yellow', 'olive', 'green', 'pink', 'orange', 'black', 'white', 'red', 'buff'], ['blue', 'brown', 'iridescent', 'purple', 'rufous', 'grey', 'yellow', 'olive', 'green', 'pink', 'orange', 'black', 'white', 'red', 'buff'], ['blue', 'brown', 'iridescent', 'purple', 'rufous', 'grey', 'yellow', 'olive', 'green', 'pink', 'orange', 'black', 'white', 'red', 'buff'], ['blue', 'brown', 'iridescent', 'purple', 'rufous', 'grey', 'yellow', 'olive', 'green', 'pink', 'orange', 'black', 'white', 'red', 'buff'], ['roundedwings', 'pointedwings', 'broadwings', 'taperedwings', 'longwings'], ['large1632in', 'small59in', 'verylarge3272in', 'medium916in', 'verysmall35in'], ['uprightperchingwaterlike', 'chickenlikemarsh', 'longleggedlike', 'ducklike', 'owllike', 'gulllike', 'hummingbirdlike', 'pigeonlike', 'treeclinginglike', 'hawklike', 'sandpiperlike', 'uplandgroundlike', 'swallowlike', 'perchinglike'], ['solid', 'spotted', 'striped', 'multicolored'], ['solid', 'spotted', 'striped', 'multicolored'], ['solid', 'spotted', 'striped', 'multicolored'], ['blue', 'brown', 'iridescent', 'purple', 'rufous', 'grey', 'yellow', 'olive', 'green', 'pink', 'orange', 'black', 'white', 'red', 'buff'], ['blue', 'brown', 'iridescent', 'purple', 'rufous', 'grey', 'yellow', 'olive', 'green', 'pink', 'orange', 'black', 'white', 'red', 'buff'], ['blue', 'brown', 'iridescent', 'purple', 'rufous', 'grey', 'yellow', 'olive', 'green', 'pink', 'orange', 'black', 'white', 'red', 'buff'], ['blue', 'brown', 'iridescent', 'purple', 'rufous', 'grey', 'yellow', 'olive', 'green', 'pink', 'orange', 'black', 'white', 'red', 'buff'], ['solid', 'spotted', 'striped', 'multicolored']]\n",
    "# CATEGORY_STR = ['hasbillshape', 'haswingcolor', 'hasupperpartscolor', 'hasunderpartscolor', 'hasbreastpattern', 'hasbackcolor', 'hastailshape', 'hasuppertailcolor', 'hasheadpattern', 'hasbreastcolor', 'hasthroatcolor', 'haseyecolor', 'hasbilllength', 'hasforeheadcolor', 'hasundertailcolor', 'hasnapecolor', 'hasbellycolor', 'haswingshape', 'hassize', 'hasshape', 'hasbackpattern', 'hastailpattern', 'hasbellypattern', 'hasprimarycolor', 'haslegcolor', 'hasbillcolor', 'hascrowncolor', 'haswingpattern']"
   ]
  },
  {
   "cell_type": "code",
   "execution_count": 7,
   "metadata": {},
   "outputs": [
    {
     "name": "stdout",
     "output_type": "stream",
     "text": [
      "hasbillshape:dagger,hookedseabird,allpurpose,cone\n",
      "haswingcolor:brown,grey,yellow,black,white,buff\n",
      "hasupperpartscolor:brown,grey,yellow,black,white,buff\n",
      "hasunderpartscolor:brown,grey,yellow,black,white,buff\n",
      "hasbreastpattern:solid,striped,multicolored\n",
      "hasbackcolor:brown,grey,yellow,black,white,buff\n",
      "hastailshape:notchedtail\n",
      "hasuppertailcolor:brown,grey,black,white,buff\n",
      "hasheadpattern:eyebrow,plain\n",
      "hasbreastcolor:brown,grey,yellow,black,white,buff\n",
      "hasthroatcolor:grey,yellow,black,white,buff\n",
      "haseyecolor:black\n",
      "hasbilllength:aboutthesameashead,shorterthanhead\n",
      "hasforeheadcolor:blue,brown,grey,yellow,black,white\n",
      "hasundertailcolor:brown,grey,black,white,buff\n",
      "hasnapecolor:brown,grey,yellow,black,white,buff\n",
      "hasbellycolor:brown,grey,yellow,black,white,buff\n",
      "haswingshape:roundedwings,pointedwings\n",
      "hassize:small59in,medium916in,verysmall35in\n",
      "hasshape:ducklike,perchinglike\n",
      "hasbackpattern:solid,striped,multicolored\n",
      "hastailpattern:solid,striped,multicolored\n",
      "hasbellypattern:solid\n",
      "hasprimarycolor:brown,grey,yellow,black,white,buff\n",
      "haslegcolor:grey,black,buff\n",
      "hasbillcolor:grey,black,buff\n",
      "hascrowncolor:blue,brown,grey,yellow,black,white\n",
      "haswingpattern:solid,spotted,striped,multicolored\n"
     ]
    }
   ],
   "source": [
    "for i, cat in enumerate(CATEGORY_STR):\n",
    "    s = f\"{cat}:\"\n",
    "    for j, elem in enumerate(PROP_STR_GROUPED[i]):\n",
    "        s +=elem \n",
    "        if j < len(PROP_STR_GROUPED[i])-1:\n",
    "            s += ','\n",
    "            \n",
    "    print(s)"
   ]
  },
  {
   "cell_type": "code",
   "execution_count": 8,
   "metadata": {
    "pycharm": {
     "name": "#%%\n"
    }
   },
   "outputs": [
    {
     "name": "stdout",
     "output_type": "stream",
     "text": [
      "hasbillshape: 4\n",
      "haswingcolor: 6\n",
      "hasupperpartscolor: 6\n",
      "hasunderpartscolor: 6\n",
      "hasbreastpattern: 3\n",
      "hasbackcolor: 6\n",
      "hastailshape: 1\n",
      "hasuppertailcolor: 5\n",
      "hasheadpattern: 2\n",
      "hasbreastcolor: 6\n",
      "hasthroatcolor: 5\n",
      "haseyecolor: 1\n",
      "hasbilllength: 2\n",
      "hasforeheadcolor: 6\n",
      "hasundertailcolor: 5\n",
      "hasnapecolor: 6\n",
      "hasbellycolor: 6\n",
      "haswingshape: 2\n",
      "hassize: 3\n",
      "hasshape: 2\n",
      "hasbackpattern: 3\n",
      "hastailpattern: 3\n",
      "hasbellypattern: 1\n",
      "hasprimarycolor: 6\n",
      "haslegcolor: 3\n",
      "hasbillcolor: 3\n",
      "hascrowncolor: 6\n",
      "haswingpattern: 4\n"
     ]
    }
   ],
   "source": [
    "n_attrs_per_cat = []\n",
    "start = 0\n",
    "for i, cat in enumerate(CATEGORY_STR):\n",
    "    print(f\"{cat}: {len(PROP_STR_GROUPED[i])}\")\n",
    "    n_attrs_per_cat.append(len(PROP_STR_GROUPED[i]))"
   ]
  },
  {
   "cell_type": "code",
   "execution_count": 9,
   "metadata": {
    "pycharm": {
     "name": "#%%\n"
    }
   },
   "outputs": [],
   "source": [
    "n_attrs_per_cat.insert(0, 0)\n",
    "start_ids = np.cumsum(n_attrs_per_cat)"
   ]
  },
  {
   "cell_type": "code",
   "execution_count": 10,
   "metadata": {
    "pycharm": {
     "name": "#%%\n"
    }
   },
   "outputs": [
    {
     "name": "stdout",
     "output_type": "stream",
     "text": [
      "hasbillshape: [0, 4]\n",
      "haswingcolor: [4, 10]\n",
      "hasupperpartscolor: [10, 16]\n",
      "hasunderpartscolor: [16, 22]\n",
      "hasbreastpattern: [22, 25]\n",
      "hasbackcolor: [25, 31]\n",
      "hastailshape: [31, 32]\n",
      "hasuppertailcolor: [32, 37]\n",
      "hasheadpattern: [37, 39]\n",
      "hasbreastcolor: [39, 45]\n",
      "hasthroatcolor: [45, 50]\n",
      "haseyecolor: [50, 51]\n",
      "hasbilllength: [51, 53]\n",
      "hasforeheadcolor: [53, 59]\n",
      "hasundertailcolor: [59, 64]\n",
      "hasnapecolor: [64, 70]\n",
      "hasbellycolor: [70, 76]\n",
      "haswingshape: [76, 78]\n",
      "hassize: [78, 81]\n",
      "hasshape: [81, 83]\n",
      "hasbackpattern: [83, 86]\n",
      "hastailpattern: [86, 89]\n",
      "hasbellypattern: [89, 90]\n",
      "hasprimarycolor: [90, 96]\n",
      "haslegcolor: [96, 99]\n",
      "hasbillcolor: [99, 102]\n",
      "hascrowncolor: [102, 108]\n",
      "haswingpattern: [108, 112]\n"
     ]
    }
   ],
   "source": [
    "start_ids\n",
    "ids = []\n",
    "# cat_attr_dims_dict = {}\n",
    "cat_attrs_dict = {}\n",
    "for i, cat in enumerate(CATEGORY_STR):\n",
    "    ids.append([start_ids[i], start_ids[i+1]])\n",
    "    print(f\"{cat}: {ids[i]}\")\n",
    "    cat_attrs_dict[cat] = {'ids': ids[i], 'attrs': PROP_STR_GROUPED[i]}\n"
   ]
  }
 ],
 "metadata": {
  "kernelspec": {
   "display_name": "Python 3 (ipykernel)",
   "language": "python",
   "name": "python3"
  },
  "language_info": {
   "codemirror_mode": {
    "name": "ipython",
    "version": 3
   },
   "file_extension": ".py",
   "mimetype": "text/x-python",
   "name": "python",
   "nbconvert_exporter": "python",
   "pygments_lexer": "ipython3",
   "version": "3.9.16"
  }
 },
 "nbformat": 4,
 "nbformat_minor": 1
}